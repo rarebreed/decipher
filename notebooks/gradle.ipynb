{
 "cells": [
  {
   "cell_type": "markdown",
   "metadata": {
    "collapsed": true,
    "pycharm": {
     "name": "#%% md\n"
    }
   },
   "source": [
    "# Gradle notes\n",
    "\n",
    "Gradle is one of the two major jvm build systems, the other major player being maven.  There are also\n",
    "some other tools like sbt and leiningen, but maven and gradle are definitely the two heavy weights.\n",
    "\n",
    "Google and Netflix choose gradle as their build tooling system.  Gradle is much more flexible and powerful\n",
    "than maven, but also comes with a much higher learning curve.  These notes will go over some of the\n",
    "things I have learned about gradle, and provide some background on how and why to do things.\n",
    "\n",
    "## Gradle Basics\n",
    "\n",
    "There are a couple of important things to understand about gradle:\n",
    "\n",
    "- It builds a task graph (an acyclic graph of tasks)\n",
    "- A task can be defined in the build script, or a plugin\n",
    "- Tasks have types\n",
    "- Tasks can declare other tasks that must run first before they can\n",
    "- Gradle does not have a lifecycle like maven, but can emulate them\n",
    "- Build scripts have a name of build.gradle[.kts] and define the configuration of a build\n",
    "    - The repositories, plugins, tasks, publishing, plugin config, etc\n",
    "    - Are scripts, and can contain arbitrary code (though this is frowned on)\n",
    "- Plugins provide extra functionality to gradle like building java libraries or fat jars\n",
    "    - In a multiproject, only the root build script can have versioned plugins\n",
    "- Repositories determine where jar dependencies can be pulled from\n",
    "- Dependencies have configuration types that specify not just what artifacts the projects need, but when\n",
    "    - ie, implementation, compileTimeOnly, testImplementation, etc\n",
    "    - Dependency management is more powerful and flexible in gradle than Maven\n",
    "    - the `java-library` plugin provides implementation, runtimeOnly, etc\n",
    "- Gradle looks for source files by convention, but they can be defined through `sourceSets`\n",
    "- Artifacts are published to maven through a separate plugin\n",
    "- Kotlin's configuration is provided by a plugin through `kotlin(jvm)`\n",
    "\n",
    "## Creating multi projects\n",
    "\n",
    "A gradle multiproject allows you to create several subprojects contained within another parent project.\n",
    "This is useful when you have a group of related subprojects and one subproject has a dependency on one or\n",
    "more subprojects.  Without a multiproject, you would need to develop your dependencies, and then either\n",
    "install them locally (ie, a gradle publishLocal), or push them to a real repository.  If the dependency\n",
    "subprojects are in constant flux, this can be a huge drawback.\n",
    "\n",
    "A multiproject lets you tell gradle under the `dependencies` that one subproject has a dependency on\n",
    "another subproject.  That way, gradle takes care of it for you.\n",
    "\n",
    "### Gotchas with multiprojects\n",
    "\n",
    "Probably the bigger gotcha with multiprojects, is that the `allprojects` configuration block is no longer\n",
    "recommended by the Gradle team.  This block is useful to share configuration data between all the subprojects.\n",
    "Gradle's recommended solution is to instead use custom gradle plugins.\n",
    "\n",
    "Another gotcha with multiprojects is that CI/CD becomes more challenging.  If you make a change to only\n",
    "one subproject, now everything has to be tested and redeployed.\n",
    "\n",
    "## Gradle composite builds\n",
    "\n",
    "I need to investigate this more, but an alternative to multiprojects is something gradle calls a composite\n",
    "build.  It appears that this is a build that combines several other projects, but still keep them separate from\n",
    "each other (ie, they are source controlled differently, and can run their own independent CI/CD pipelines)."
   ]
  }
 ],
 "metadata": {
  "kernelspec": {
   "display_name": "Python 3",
   "language": "python",
   "name": "python3"
  },
  "language_info": {
   "codemirror_mode": {
    "name": "ipython",
    "version": 2
   },
   "file_extension": ".py",
   "mimetype": "text/x-python",
   "name": "python",
   "nbconvert_exporter": "python",
   "pygments_lexer": "ipython2",
   "version": "2.7.6"
  }
 },
 "nbformat": 4,
 "nbformat_minor": 0
}