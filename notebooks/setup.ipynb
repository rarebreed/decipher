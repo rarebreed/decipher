{
 "cells": [
  {
   "cell_type": "markdown",
   "source": [
    "# Bootstrapping the project\n",
    "\n",
    "To run decipher, you will need to install and setup some software on your\n",
    "system.\n",
    "\n",
    "- zsh: Because it's cooler than bash\n",
    "- pyenv: To manage python environments\n",
    "- jupyter: To install jupyterlab and notebook itself\n",
    "- kotlin-jupyter: A kotlin kernel for jupyter\n",
    "\n",
    "## Installing pyenv\n",
    "\n",
    "pyenv is a tool that lets you not only install different python virtual environments,\n",
    "but also different python versions.  This is the best way to manage both.\n",
    "\n",
    "Before running the script block here you will want"
   ],
   "metadata": {
    "collapsed": false,
    "pycharm": {
     "name": "#%% md\n"
    }
   }
  },
  {
   "cell_type": "code",
   "execution_count": null,
   "outputs": [],
   "source": [
    "!curl https://pyenv.run | bash\n",
    "!exec $SHELL\n",
    "!pyenv update"
   ],
   "metadata": {
    "collapsed": false,
    "pycharm": {
     "name": "#%%\n",
     "is_executing": true
    }
   }
  }
 ],
 "metadata": {
  "kernelspec": {
   "display_name": "Python 3",
   "language": "python",
   "name": "python3"
  },
  "language_info": {
   "codemirror_mode": {
    "name": "ipython",
    "version": 2
   },
   "file_extension": ".py",
   "mimetype": "text/x-python",
   "name": "python",
   "nbconvert_exporter": "python",
   "pygments_lexer": "ipython2",
   "version": "2.7.6"
  }
 },
 "nbformat": 4,
 "nbformat_minor": 0
}